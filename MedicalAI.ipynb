{
 "cells": [
  {
   "cell_type": "markdown",
   "id": "283abefd-b442-4f70-83bf-3933739bb79d",
   "metadata": {},
   "source": [
    "# Medical Image Classifier"
   ]
  },
  {
   "cell_type": "code",
   "execution_count": 4,
   "id": "2a76c97a-09f9-4a01-aff1-155cf1b69b3a",
   "metadata": {},
   "outputs": [
    {
     "name": "stdout",
     "output_type": "stream",
     "text": [
      "Collecting seaborn\n",
      "  Using cached seaborn-0.13.1-py3-none-any.whl.metadata (5.4 kB)\n",
      "Requirement already satisfied: numpy!=1.24.0,>=1.20 in /opt/conda/lib/python3.10/site-packages (from seaborn) (1.26.0)\n",
      "Requirement already satisfied: pandas>=1.2 in /opt/conda/lib/python3.10/site-packages (from seaborn) (2.1.2)\n",
      "Requirement already satisfied: matplotlib!=3.6.1,>=3.4 in /opt/conda/lib/python3.10/site-packages (from seaborn) (3.8.1)\n",
      "Requirement already satisfied: contourpy>=1.0.1 in /opt/conda/lib/python3.10/site-packages (from matplotlib!=3.6.1,>=3.4->seaborn) (1.2.0)\n",
      "Requirement already satisfied: cycler>=0.10 in /opt/conda/lib/python3.10/site-packages (from matplotlib!=3.6.1,>=3.4->seaborn) (0.12.1)\n",
      "Requirement already satisfied: fonttools>=4.22.0 in /opt/conda/lib/python3.10/site-packages (from matplotlib!=3.6.1,>=3.4->seaborn) (4.44.0)\n",
      "Requirement already satisfied: kiwisolver>=1.3.1 in /opt/conda/lib/python3.10/site-packages (from matplotlib!=3.6.1,>=3.4->seaborn) (1.4.5)\n",
      "Requirement already satisfied: packaging>=20.0 in /opt/conda/lib/python3.10/site-packages (from matplotlib!=3.6.1,>=3.4->seaborn) (23.2)\n",
      "Requirement already satisfied: pillow>=8 in /opt/conda/lib/python3.10/site-packages (from matplotlib!=3.6.1,>=3.4->seaborn) (9.5.0)\n",
      "Requirement already satisfied: pyparsing>=2.3.1 in /opt/conda/lib/python3.10/site-packages (from matplotlib!=3.6.1,>=3.4->seaborn) (3.1.1)\n",
      "Requirement already satisfied: python-dateutil>=2.7 in /opt/conda/lib/python3.10/site-packages (from matplotlib!=3.6.1,>=3.4->seaborn) (2.8.2)\n",
      "Requirement already satisfied: pytz>=2020.1 in /opt/conda/lib/python3.10/site-packages (from pandas>=1.2->seaborn) (2023.3)\n",
      "Requirement already satisfied: tzdata>=2022.1 in /opt/conda/lib/python3.10/site-packages (from pandas>=1.2->seaborn) (2023.3)\n",
      "Requirement already satisfied: six>=1.5 in /opt/conda/lib/python3.10/site-packages (from python-dateutil>=2.7->matplotlib!=3.6.1,>=3.4->seaborn) (1.16.0)\n",
      "Using cached seaborn-0.13.1-py3-none-any.whl (294 kB)\n",
      "Installing collected packages: seaborn\n",
      "Successfully installed seaborn-0.13.1\n"
     ]
    }
   ],
   "source": [
    "!pip install seaborn"
   ]
  },
  {
   "cell_type": "code",
   "execution_count": 5,
   "id": "953b1e97-01de-4b73-b3f5-b30489106c84",
   "metadata": {},
   "outputs": [
    {
     "name": "stdout",
     "output_type": "stream",
     "text": [
      "sagemaker.config INFO - Not applying SDK defaults from location: /etc/xdg/sagemaker/config.yaml\n",
      "sagemaker.config INFO - Not applying SDK defaults from location: /home/sagemaker-user/.config/sagemaker/config.yaml\n",
      "sagemaker.config INFO - Not applying SDK defaults from location: /etc/xdg/sagemaker/config.yaml\n",
      "sagemaker.config INFO - Not applying SDK defaults from location: /home/sagemaker-user/.config/sagemaker/config.yaml\n"
     ]
    }
   ],
   "source": [
    "import os\n",
    "import glob\n",
    "import time\n",
    "import json\n",
    "\n",
    "import pandas as pd\n",
    "import numpy as np\n",
    "\n",
    "import matplotlib.pyplot as plt\n",
    "import seaborn as sns\n",
    "\n",
    "import boto3\n",
    "import base64\n",
    "\n",
    "import sagemaker\n",
    "from sagemaker import image_uris\n",
    "from sagemaker import get_execution_role\n",
    "from sagemaker.tuner import CategoricalParameter, ContinuousParameter,  HyperparameterTuner\n",
    "from sagemaker.session import TrainingInput\n",
    "from sagemaker.predictor import Predictor\n",
    "from sagemaker.serializers import IdentitySerializer\n",
    "\n",
    "from sklearn.metrics import confusion_matrix, classification_report\n",
    "\n",
    "sess = sagemaker.Session()\n",
    "\n"
   ]
  },
  {
   "cell_type": "markdown",
   "id": "04fe8ac0-3cc4-4a62-a1c1-2c6c4e87ddf6",
   "metadata": {},
   "source": [
    "## Import and save Kaggle dataset\n",
    "\n",
    "- Do not repeat. Dataset has already been imported."
   ]
  },
  {
   "cell_type": "code",
   "execution_count": null,
   "id": "ae3908c7-d8d6-471a-a819-110aa7d07eee",
   "metadata": {},
   "outputs": [],
   "source": [
    "!pip install -q kaggle"
   ]
  },
  {
   "cell_type": "code",
   "execution_count": null,
   "id": "63c475e4-7882-40c2-b472-d7c311630f17",
   "metadata": {},
   "outputs": [],
   "source": [
    "!mkdir ~/.kaggle"
   ]
  },
  {
   "cell_type": "code",
   "execution_count": null,
   "id": "e6956774-ba78-4bcc-8f77-842f6cb5ee0b",
   "metadata": {},
   "outputs": [],
   "source": [
    "!touch ~/.kaggle/kaggle.json"
   ]
  },
  {
   "cell_type": "code",
   "execution_count": null,
   "id": "5aab7d53-dbd4-4d89-b766-5f2c42b5377f",
   "metadata": {},
   "outputs": [],
   "source": [
    "api_token = {\"username\": \"dorregocabrera\", \"key\": \"5eb3899dd2c8424c42108b634e734241\"}"
   ]
  },
  {
   "cell_type": "code",
   "execution_count": null,
   "id": "eedb0106-e21e-4cc5-94b0-ff6f70d8782f",
   "metadata": {},
   "outputs": [],
   "source": [
    "import json\n",
    "\n",
    "with open(\".kaggle/kaggle.json\", \"w\") as file:\n",
    "    json.dump(api_token, file)"
   ]
  },
  {
   "cell_type": "code",
   "execution_count": null,
   "id": "7f03e770-8383-4927-9c36-d5aeb4c3c3f3",
   "metadata": {},
   "outputs": [],
   "source": [
    "!chmod 600 ~/.kaggle/kaggle.json"
   ]
  },
  {
   "cell_type": "code",
   "execution_count": null,
   "id": "6dab433d-f1dc-4496-823d-d7ff6179c850",
   "metadata": {},
   "outputs": [],
   "source": [
    "!kaggle datasets download -d paultimothymooney/chest-xray-pneumonia --force"
   ]
  },
  {
   "cell_type": "code",
   "execution_count": null,
   "id": "e7a484b1-9ea2-4067-aae2-b8c76caf30e3",
   "metadata": {},
   "outputs": [],
   "source": [
    "import zipfile\n",
    "with zipfile.ZipFile(\"./chest-xray-pneumonia.zip\", \"r\") as zip_ref:\n",
    "    zip_ref.extractall(\"./data\")"
   ]
  },
  {
   "cell_type": "markdown",
   "id": "2b70f1b8-8890-42b8-83f2-ed9861d6d18a",
   "metadata": {},
   "source": [
    "## Visualize randomly-selected x-ray"
   ]
  },
  {
   "cell_type": "code",
   "execution_count": null,
   "id": "8b28ae2d-e049-4957-84fe-557839413236",
   "metadata": {},
   "outputs": [],
   "source": [
    "import glob\n",
    "import random\n",
    "import matplotlib.pyplot as plt\n",
    "\n",
    "def get_random_image(dir,  condition):\n",
    "    placeholder = \"\"\n",
    "\n",
    "    if condition == \"n\":\n",
    "        placeholder = \"NORMAL\"\n",
    "    elif condition == \"p\":\n",
    "        placeholder = \"PNEUMONIA\"\n",
    "    else:\n",
    "        raise Exception(\"Sorry, invalid condition\")\n",
    "\n",
    "    folder = f\"./data/chest_xray/{dir}/{placeholder}/*.jpeg\"\n",
    "    img_paths = glob.glob(folder)\n",
    "    max_length = len(img_paths)\n",
    "    random_number = random.randint(0, max_length)\n",
    "\n",
    "    for index, item in enumerate(img_paths, start=1):\n",
    "        if index == random_number:\n",
    "            print(index, item)\n",
    "            image = plt.imread(item)\n",
    "            ready_image = plt.imshow(image)\n",
    "            return ready_image"
   ]
  },
  {
   "cell_type": "code",
   "execution_count": null,
   "id": "2dad1ac8-6faa-47a4-a7b7-6c6524158e36",
   "metadata": {},
   "outputs": [],
   "source": [
    "get_random_image(\"train\", \"p\")"
   ]
  },
  {
   "cell_type": "code",
   "execution_count": null,
   "id": "729bad84-0a5a-4885-a6dc-1c08b449053b",
   "metadata": {},
   "outputs": [],
   "source": [
    "from PIL import Image\n",
    "\n",
    "image = Image.open(\"data/chest_xray/val/NORMAL/NORMAL2-IM-1427-0001.jpeg\")\n",
    "print(image.format)\n",
    "print(image.size)\n",
    "print(image.mode)"
   ]
  },
  {
   "cell_type": "markdown",
   "id": "0c6381e6-4d9f-4266-8f69-1c9a66ed5836",
   "metadata": {},
   "source": [
    "## Resize images and ensure images are greyscale"
   ]
  },
  {
   "cell_type": "code",
   "execution_count": null,
   "id": "21491305-c5cd-495f-bbb7-64122b41a09f",
   "metadata": {},
   "outputs": [],
   "source": [
    "import glob\n",
    "import matplotlib.pyplot as plt\n",
    "from PIL import Image\n",
    "\n",
    "# training dataset\n",
    "\n",
    "folder = \"./data/chest_xray/train/*/*.jpeg\"\n",
    "\n",
    "counter_pneu = 0\n",
    "counter_normal = 0\n",
    "\n",
    "img_paths = glob.glob(folder)\n",
    "\n",
    "for i in img_paths:\n",
    "    if \"person\" in i:\n",
    "        full_size_image = Image.open(i)\n",
    "        im = full_size_image.resize((224, 224))\n",
    "        plt.imsave(\n",
    "            fname=\"./data/chest_xray/train\" + \"/train_pneumonia\" + str(counter_pneu) + \".jpeg\",\n",
    "            arr=im,\n",
    "            format=\"jpeg\",\n",
    "            cmap=\"gray\"\n",
    "        )\n",
    "        counter_pneu += 1\n",
    "    \n",
    "    else:\n",
    "        full_size_image = Image.open(i)\n",
    "        im = full_size_image.resize((224, 224))\n",
    "        plt.imsave(\n",
    "            fname=\"./data/chest_xray/train\" + \"/train_normal\" + str(counter_normal) + \".jpeg\",\n",
    "            arr=im,\n",
    "            format=\"jpeg\",\n",
    "            cmap=\"gray\"\n",
    "        )\n",
    "        counter_normal += 1"
   ]
  },
  {
   "cell_type": "code",
   "execution_count": null,
   "id": "caa7b8cd-fe64-47ed-9c20-ee5cee551803",
   "metadata": {},
   "outputs": [],
   "source": [
    "# test dataset\n",
    "folder = \"./data/chest_xray/test/*/*.jpeg\"\n",
    "\n",
    "counter_pneu = 0\n",
    "counter_normal = 0\n",
    "\n",
    "img_paths = glob.glob(folder)\n",
    "\n",
    "for i in img_paths:\n",
    "    if \"person\" in i:\n",
    "        full_size_image = Image.open(i)\n",
    "        im = full_size_image.resize((224, 224))\n",
    "        plt.imsave(\n",
    "            fname=\"./data/chest_xray/test\" + \"/test_pneumonia\" + str(counter_pneu) + \".jpeg\",\n",
    "            arr=im,\n",
    "            format=\"jpeg\",\n",
    "            cmap=\"gray\"\n",
    "        )\n",
    "        counter_pneu += 1\n",
    "    \n",
    "    else:\n",
    "        full_size_image = Image.open(i)\n",
    "        im = full_size_image.resize((224, 224))\n",
    "        plt.imsave(\n",
    "            fname=\"./data/chest_xray/test\" + \"/test_normal\" + str(counter_normal) + \".jpeg\",\n",
    "            arr=im,\n",
    "            format=\"jpeg\",\n",
    "            cmap=\"gray\"\n",
    "        )\n",
    "        counter_normal += 1"
   ]
  },
  {
   "cell_type": "code",
   "execution_count": null,
   "id": "83755b39-b216-4163-b256-3314295efd08",
   "metadata": {},
   "outputs": [],
   "source": [
    "# validation dataset\n",
    "folder = \"./data/chest_xray/val/*/*.jpeg\"\n",
    "\n",
    "counter_pneu = 0\n",
    "counter_normal = 0\n",
    "\n",
    "img_paths = glob.glob(folder)\n",
    "\n",
    "for i in img_paths:\n",
    "    if \"person\" in i:\n",
    "        full_size_image = Image.open(i)\n",
    "        im = full_size_image.resize((224, 224))\n",
    "        plt.imsave(\n",
    "            fname=\"./data/chest_xray/val\" + \"/val_pneumonia\" + str(counter_pneu) + \".jpeg\",\n",
    "            arr=im,\n",
    "            format=\"jpeg\",\n",
    "            cmap=\"gray\"\n",
    "        )\n",
    "        counter_pneu += 1\n",
    "    \n",
    "    else:\n",
    "        full_size_image = Image.open(i)\n",
    "        im = full_size_image.resize((224, 224))\n",
    "        plt.imsave(\n",
    "            fname=\"./data/chest_xray/val\" + \"/val_normal\" + str(counter_normal) + \".jpeg\",\n",
    "            arr=im,\n",
    "            format=\"jpeg\",\n",
    "            cmap=\"gray\"\n",
    "        )\n",
    "        counter_normal += 1"
   ]
  },
  {
   "cell_type": "markdown",
   "id": "908f85d4-87f3-4848-9c9c-9318da783840",
   "metadata": {},
   "source": [
    "## Create visualizations"
   ]
  },
  {
   "cell_type": "code",
   "execution_count": null,
   "id": "ac9ac2cb-e99a-452f-b333-975abdd84027",
   "metadata": {},
   "outputs": [],
   "source": [
    "# prepare data to create dataframe \n",
    "\n",
    "import glob\n",
    "import pandas\n",
    "\n",
    "folder = \"./data/chest_xray/*/*.jpeg\"\n",
    "\n",
    "category = []\n",
    "condition_of_lung = []\n",
    "filenames = []\n",
    "\n",
    "all_files = glob.glob(folder)\n",
    "\n",
    "for filename in all_files:\n",
    "    filenames.append(filename)\n",
    "    \n",
    "    if \"train\" in filename:\n",
    "        category.append(\"train\")\n",
    "\n",
    "        if \"pneumonia\" in filename:\n",
    "            condition_of_lung.append(\"pneumonia\")\n",
    "        \n",
    "        elif \"normal\" in filename:\n",
    "            condition_of_lung.append(\"normal\")\n",
    "\n",
    "        else:\n",
    "            condition_of_lung.append(np.nan)\n",
    "    \n",
    "    elif \"val\" in filename:\n",
    "        category.append(\"val\")\n",
    "        \n",
    "        if \"pneumonia\" in filename:\n",
    "            condition_of_lung.append(\"pneumonia\")\n",
    "        \n",
    "        elif \"normal\" in filename:\n",
    "            condition_of_lung.append(\"normal\")\n",
    "        \n",
    "        else:\n",
    "            condition_of_lung.append(np.nan)\n",
    "\n",
    "    elif \"test\" in filename:\n",
    "        category.append(\"test\")\n",
    "        \n",
    "        if \"pneumonia\" in filename:\n",
    "            condition_of_lung.append(\"pneumonia\")\n",
    "        \n",
    "        elif \"normal\" in filename:\n",
    "            condition_of_lung.append(\"normal\")\n",
    "\n",
    "        else:\n",
    "            condition_of_lung.append(np.nan)\n",
    "\n",
    "    else:\n",
    "        category.append(np.nan)\n",
    "        \n",
    "        if \"pneumonia\" in filename:\n",
    "            condition_of_lung.append(\"pneumonia\")\n",
    "        \n",
    "        elif \"normal\" in filename:\n",
    "            condition_of_lung.append(\"normal\")\n",
    "\n",
    "        else:\n",
    "            condition_of_lung.append(np.nan)"
   ]
  },
  {
   "cell_type": "code",
   "execution_count": null,
   "id": "560db4ca-2be9-4aaa-b27c-a76749d6a18c",
   "metadata": {},
   "outputs": [],
   "source": [
    "# create dataframe\n",
    "\n",
    "all_data_df = pd.DataFrame({\n",
    "    \"dataset_type\": category,\n",
    "    \"x_ray_result\": condition_of_lung,\n",
    "    \"filename\": filenames,\n",
    "})\n",
    "\n",
    "all_data_df.head()\n",
    "    "
   ]
  },
  {
   "cell_type": "code",
   "execution_count": null,
   "id": "dde2ff22-ac21-4f76-b685-86afe5f26dde",
   "metadata": {},
   "outputs": [],
   "source": [
    "all_data_df.shape"
   ]
  },
  {
   "cell_type": "code",
   "execution_count": null,
   "id": "7cd7621d-f1db-4ea6-90df-f5b5aa7d1841",
   "metadata": {},
   "outputs": [],
   "source": [
    "# create bar graphs\n",
    "g = sns.catplot(x=\"x_ray_result\", col=\"dataset_type\", kind=\"count\", palette=\"ch:.55\", data=all_data_df, legend=True)\n",
    "\n",
    "for i in range(0, 3):\n",
    "    ax = g.facet_axis(0, i)\n",
    "    for p in ax.patches:\n",
    "        ax.text(\n",
    "            p.get_x() + 0.3,\n",
    "            p.get_height() * 1.05,\n",
    "            \"{0:.0f}\".format(p.get_height()),\n",
    "            color=\"black\",\n",
    "            rotation=\"horizontal\",\n",
    "            size=\"large\",\n",
    "        )"
   ]
  },
  {
   "cell_type": "code",
   "execution_count": null,
   "id": "3afd40c0-b22e-4fd8-abeb-f40066fd9028",
   "metadata": {},
   "outputs": [],
   "source": [
    "# create train dataframe to transform to LST file\n",
    "train_folder = \"./data/chest_xray/train/*.jpeg\"\n",
    "train_df_lst = pd.DataFrame(columns=[\"labels\", \"s3_path\"], dtype=object)\n",
    "train_imgs_path = glob.glob(train_folder)\n",
    "counter = 0\n",
    "class_arg = \"\"\n",
    "\n",
    "for path in train_imgs_path:\n",
    "    if \"pneumonia\" in path:\n",
    "        class_arg = 1\n",
    "    else:\n",
    "        class_arg = 0\n",
    "\n",
    "    train_df_lst.loc[counter] = [class_arg, os.path.basename(path)]\n",
    "    counter += 1\n",
    "\n",
    "print(train_df_lst.head())\n",
    "                            "
   ]
  },
  {
   "cell_type": "code",
   "execution_count": null,
   "id": "e20c86ea-0058-4e27-acaa-99b8c00769f3",
   "metadata": {},
   "outputs": [],
   "source": [
    "# create test dataframe to transform to LST file\n",
    "test_folder = \"./data/chest_xray/test/*.jpeg\"\n",
    "test_df_lst = pd.DataFrame(columns=[\"labels\", \"s3_path\"], dtype=object)\n",
    "test_imgs_path = glob.glob(test_folder)\n",
    "counter = 0\n",
    "class_arg = \"\"\n",
    "\n",
    "for path in test_imgs_path:\n",
    "    if \"pneumonia\" in path:\n",
    "        class_arg = 1\n",
    "    else:\n",
    "        class_arg = 0\n",
    "\n",
    "    test_df_lst.loc[counter] = [class_arg, os.path.basename(path)]\n",
    "    counter += 1\n",
    "\n",
    "print(test_df_lst.head())"
   ]
  },
  {
   "cell_type": "code",
   "execution_count": null,
   "id": "8a4f89a1-a0ea-49dc-8547-27327353d06e",
   "metadata": {},
   "outputs": [],
   "source": []
  },
  {
   "cell_type": "code",
   "execution_count": null,
   "id": "b5a0f3c4-90c6-4396-ae49-c6c563c66641",
   "metadata": {},
   "outputs": [],
   "source": [
    "# create LST files\n",
    "def save_to_lst(df, prefix):\n",
    "    return df[[\"labels\", \"s3_path\"]].to_csv(\n",
    "        f\"{prefix}.lst\", sep=\"\\t\", index=True, header=False\n",
    "    )\n",
    "\n",
    "# train dataset\n",
    "save_to_lst(train_df_lst.copy(), \"train\")\n",
    "\n",
    "# test dataset\n",
    "save_to_lst(test_df_lst.copy(), \"test\")"
   ]
  },
  {
   "cell_type": "code",
   "execution_count": 2,
   "id": "cde03322-5be8-4c9f-91d2-b12ee763c117",
   "metadata": {},
   "outputs": [
    {
     "name": "stdout",
     "output_type": "stream",
     "text": [
      "bucket: medical-ai-chest-xray-333\n",
      "region: us-east-1\n",
      "ARN role: arn:aws:s3:::medical-ai-chest-xray-333\n"
     ]
    }
   ],
   "source": [
    "# save LST file to S3 bucket\n",
    "bucket = \"medical-ai-chest-xray-333\"\n",
    "print(\"bucket: {}\".format(bucket))\n",
    "\n",
    "region = \"us-east-1\"\n",
    "print(\"region: {}\".format(region))\n",
    "\n",
    "arn_role = \"arn:aws:s3:::medical-ai-chest-xray-333\"\n",
    "print(\"ARN role: {}\".format(arn_role))\n"
   ]
  },
  {
   "cell_type": "code",
   "execution_count": 5,
   "id": "314ab11c-415b-44aa-8e80-61bdd49c5b20",
   "metadata": {},
   "outputs": [],
   "source": [
    "os.environ[\"DEFAULT_S3_BUCKET\"] = bucket"
   ]
  },
  {
   "cell_type": "code",
   "execution_count": 6,
   "id": "8b31becb-16a0-42c2-8edc-fd2bab47a722",
   "metadata": {},
   "outputs": [],
   "source": [
    "# !aws s3 sync ./data/chest_xray/train s3://${DEFAULT_S3_BUCKET}/train/"
   ]
  },
  {
   "cell_type": "code",
   "execution_count": 7,
   "id": "21c904de-df82-4f89-a4d4-864b319a3ee2",
   "metadata": {},
   "outputs": [],
   "source": [
    "# !aws s3 sync ./data/chest_xray/test s3://${DEFAULT_S3_BUCKET}/test/"
   ]
  },
  {
   "cell_type": "code",
   "execution_count": 8,
   "id": "c66db3ba-94a4-4894-8e6e-1cb7fd35b1ea",
   "metadata": {},
   "outputs": [],
   "source": [
    "# boto3.Session().resource(\"s3\").Bucket(bucket).Object(\"train.lst\").upload_file(\"./train.lst\")"
   ]
  },
  {
   "cell_type": "code",
   "execution_count": 9,
   "id": "3bba3f7d-fd84-46f4-9632-49d20d3ab5d5",
   "metadata": {},
   "outputs": [],
   "source": [
    "# boto3.Session().resource(\"s3\").Bucket(bucket).Object(\"test.lst\").upload_file(\"./test.lst\")"
   ]
  },
  {
   "cell_type": "markdown",
   "id": "96860e5a-9870-401a-9b3a-5a7bb9cec21b",
   "metadata": {},
   "source": [
    "## Training estimator"
   ]
  },
  {
   "cell_type": "code",
   "execution_count": 6,
   "id": "64905f0d-a1d7-46b2-8fb2-679697886fc6",
   "metadata": {},
   "outputs": [
    {
     "name": "stdout",
     "output_type": "stream",
     "text": [
      "811284229777.dkr.ecr.us-east-1.amazonaws.com/image-classification:1\n"
     ]
    }
   ],
   "source": [
    "# get Docker image for image classifier from Elastic container registry\n",
    "algorithm_image = image_uris.retrieve(\n",
    "    region=boto3.Session().region_name,\n",
    "    framework=\"image-classification\",    \n",
    ")\n",
    "\n",
    "s3_output_location = f\"s3://{bucket}/models/image_model\"\n",
    "print(algorithm_image)"
   ]
  },
  {
   "cell_type": "code",
   "execution_count": 7,
   "id": "6b09aa01-b83d-4434-ae60-5195262d49db",
   "metadata": {},
   "outputs": [
    {
     "name": "stdout",
     "output_type": "stream",
     "text": [
      "sagemaker.config INFO - Not applying SDK defaults from location: /etc/xdg/sagemaker/config.yaml\n",
      "sagemaker.config INFO - Not applying SDK defaults from location: /home/sagemaker-user/.config/sagemaker/config.yaml\n",
      "arn:aws:iam::588336835903:role/service-role/AmazonSageMaker-ExecutionRole-20231213T093692\n"
     ]
    }
   ],
   "source": [
    "role = get_execution_role()\n",
    "print(role)"
   ]
  },
  {
   "cell_type": "code",
   "execution_count": 12,
   "id": "8fbc4ee6-cdad-40e6-8640-fbbba785cfef",
   "metadata": {},
   "outputs": [
    {
     "name": "stdout",
     "output_type": "stream",
     "text": [
      "<sagemaker.estimator.Estimator object at 0x7fbafc4d5c30>\n"
     ]
    }
   ],
   "source": [
    "# increasing # of instances will increase training speed\n",
    "# it will come at the cost of accuracy\n",
    "# input_mode as 'pipe' allows data to be streamed in from S3. No need to save images to local drive\n",
    "img_classifier_model = sagemaker.estimator.Estimator(\n",
    "    algorithm_image,\n",
    "    role=role,\n",
    "    instance_count=1,\n",
    "    instance_type=\"ml.p2.xlarge\",\n",
    "    volume_size=50,\n",
    "    max_run=432000,\n",
    "    input_mode=\"File\", # copy all training images to the local directory\n",
    "    output_path=s3_output_location,\n",
    "    sagemaker_session=sess,\n",
    ")\n",
    "print(img_classifier_model)"
   ]
  },
  {
   "cell_type": "code",
   "execution_count": 13,
   "id": "993f9e26-d61b-462c-bce2-d093b585393b",
   "metadata": {},
   "outputs": [
    {
     "name": "stdout",
     "output_type": "stream",
     "text": [
      "0\n"
     ]
    }
   ],
   "source": [
    "# count number of training images\n",
    "count = 0\n",
    "\n",
    "for filepath in glob.glob(\"./data/chest_xray/train/*.jpeg\"):\n",
    "    count += 1\n",
    "print(count)"
   ]
  },
  {
   "cell_type": "code",
   "execution_count": 15,
   "id": "466318b0-8f21-4b14-ae60-d37edb067b8b",
   "metadata": {},
   "outputs": [],
   "source": [
    "# set up hyperparameters\n",
    "img_classifier_model.set_hyperparameters(\n",
    "    image_shape=\"3,224,224\",\n",
    "    num_classes=2,\n",
    "    use_pretrained_model=1, # turns on transfer learning\n",
    "    num_training_samples=5216,\n",
    "    augmentation_type=\"crop_color_transform\",\n",
    "    epochs=15,\n",
    "    early_stopping=True, # avoids overfitting and expensive training\n",
    "    early_stopping_min_epochs=8, # minimum number allowed\n",
    "    early_stopping_patience=5,\n",
    "    early_stopping_tolerance=0.0,\n",
    "    lr_scheduler_factor=0.1,\n",
    "    lr_scheduler_step=\"8,10,12\",\n",
    ")"
   ]
  },
  {
   "cell_type": "code",
   "execution_count": 16,
   "id": "52be69d4-7418-4a29-8fe3-64aafba24a1e",
   "metadata": {},
   "outputs": [],
   "source": [
    "# tune hyperparameters\n",
    "hyperparameter_ranges = {\n",
    "    \"learning_rate\": ContinuousParameter(0.01, 0.1),\n",
    "    # minim_batch_size is number of training examples in 1 forward and backward pass\n",
    "    \"mini_batch_size\": CategoricalParameter([8, 16, 32]),\n",
    "    \"optimizer\": CategoricalParameter([\"sgd\", \"adam\"]),\n",
    "}"
   ]
  },
  {
   "cell_type": "code",
   "execution_count": 17,
   "id": "95b1f370-0ec0-4b0c-bb34-a34da06f39a3",
   "metadata": {},
   "outputs": [],
   "source": [
    "objective_metric_name = \"validation:accuracy\"\n",
    "objective_type = \"Maximize\"\n",
    "max_jobs = 5\n",
    "max_parallel_jobs = 1"
   ]
  },
  {
   "cell_type": "code",
   "execution_count": 18,
   "id": "752cba42-6bb4-4d60-a87a-c2806d5e2a54",
   "metadata": {},
   "outputs": [],
   "source": [
    "tuner = HyperparameterTuner(\n",
    "    estimator=img_classifier_model,\n",
    "    objective_metric_name=objective_metric_name,\n",
    "    hyperparameter_ranges=hyperparameter_ranges,\n",
    "    objective_type=objective_type,\n",
    "    max_jobs=max_jobs,\n",
    "    max_parallel_jobs=max_parallel_jobs,\n",
    ")"
   ]
  },
  {
   "cell_type": "code",
   "execution_count": 22,
   "id": "0d62bc59-ebfc-4ce7-8a2d-fe6eda8d98f9",
   "metadata": {},
   "outputs": [],
   "source": [
    "model_inputs = {\n",
    "    \"train\": sagemaker.inputs.TrainingInput(\n",
    "        s3_data=f\"s3://{bucket}/train/\",\n",
    "        content_type=\"application/x-image\"\n",
    "    ),\n",
    "    # SageMarket calls refers to 'test' as 'validation'\n",
    "     \"validation\": sagemaker.inputs.TrainingInput(\n",
    "        s3_data=f\"s3://{bucket}/test/\",\n",
    "        content_type=\"application/x-image\"\n",
    "    ),\n",
    "    \"train_lst\": sagemaker.inputs.TrainingInput(\n",
    "        s3_data=f\"s3://{bucket}/train.lst\",\n",
    "        content_type=\"application/x-image\"\n",
    "    ),\n",
    "    # SageMarket calls refers to 'test' as 'validation'\n",
    "    \"validation_lst\": sagemaker.inputs.TrainingInput(\n",
    "        s3_data=f\"s3://{bucket}/test.lst\",\n",
    "        content_type=\"application/x-image\"\n",
    "    ),\n",
    "}\n"
   ]
  },
  {
   "cell_type": "code",
   "execution_count": 23,
   "id": "610d5dc7-5fd5-4299-b53b-563c757d762e",
   "metadata": {},
   "outputs": [],
   "source": [
    "# create job name for logs\n",
    "job_name_prefix = \"classifier\"\n",
    "timestamp = time.strftime(\"-%Y-%m-%d-%H-%M-%S\", time.gmtime())\n",
    "job_name = job_name_prefix + timestamp"
   ]
  },
  {
   "cell_type": "code",
   "execution_count": null,
   "id": "9db4b223-4e93-463f-8b9c-d1b5d6734d05",
   "metadata": {},
   "outputs": [
    {
     "name": "stderr",
     "output_type": "stream",
     "text": [
      "No finished training job found associated with this estimator. Please make sure this estimator is only used for building workflow config\n"
     ]
    },
    {
     "name": "stdout",
     "output_type": "stream",
     "text": [
      "............................................................................................................................................................................................................................................................................................................................................................................................................................................................................................................................................................................................................................................................................................................................................................................................................................................................................................................................................................................................................................................................................................................................................................................................................................................................................................................................................................................................................................................................................................................................................................................................................................................................................................................................................................................................................................................................................................................................................................"
     ]
    }
   ],
   "source": [
    "tuner.fit(inputs=model_inputs, job_name=job_name, logs=True)"
   ]
  },
  {
   "cell_type": "markdown",
   "id": "49ba074f-de7b-4084-8ac3-b7ddac4c8cd4",
   "metadata": {},
   "source": [
    "## Deploy model locally"
   ]
  },
  {
   "cell_type": "code",
   "execution_count": 3,
   "id": "8f33f322-9826-48db-80f5-21d673372537",
   "metadata": {},
   "outputs": [
    {
     "name": "stdout",
     "output_type": "stream",
     "text": [
      "sagemaker.config INFO - Not applying SDK defaults from location: /etc/xdg/sagemaker/config.yaml\n",
      "sagemaker.config INFO - Not applying SDK defaults from location: /home/sagemaker-user/.config/sagemaker/config.yaml\n"
     ]
    }
   ],
   "source": [
    "role = get_execution_role()"
   ]
  },
  {
   "cell_type": "code",
   "execution_count": 8,
   "id": "d37b4f88-89d9-4792-911f-e8bbb0642fcb",
   "metadata": {},
   "outputs": [
    {
     "name": "stdout",
     "output_type": "stream",
     "text": [
      "sagemaker.config INFO - Not applying SDK defaults from location: /etc/xdg/sagemaker/config.yaml\n",
      "sagemaker.config INFO - Not applying SDK defaults from location: /home/sagemaker-user/.config/sagemaker/config.yaml\n"
     ]
    }
   ],
   "source": [
    "model = sagemaker.model.Model(\n",
    "    image_uri=algorithm_image,\n",
    "    model_data=\"https://medical-ai-chest-xray-333.s3.amazonaws.com/models/image_model/classifier-2023-12-31-19-32-45-005-67e1c046/output/model.tar.gz\",\n",
    "    role=role,\n",
    ")"
   ]
  },
  {
   "cell_type": "code",
   "execution_count": 10,
   "id": "e77a2c06-c5d4-4542-8996-a7fc020190e5",
   "metadata": {},
   "outputs": [
    {
     "name": "stdout",
     "output_type": "stream",
     "text": [
      "------------!"
     ]
    }
   ],
   "source": [
    "endpoint_name = \"demo-img-clsfr-pneuomia2\"\n",
    "\n",
    "deployment = model.deploy(\n",
    "    initial_instance_count=1,\n",
    "    instance_type=\"ml.m4.xlarge\",\n",
    "    endpoint_name=endpoint_name\n",
    ")"
   ]
  },
  {
   "cell_type": "code",
   "execution_count": 11,
   "id": "b538ec43-dba2-48a2-a200-b4ff20e2e338",
   "metadata": {},
   "outputs": [
    {
     "name": "stdout",
     "output_type": "stream",
     "text": [
      "sagemaker.config INFO - Not applying SDK defaults from location: /etc/xdg/sagemaker/config.yaml\n",
      "sagemaker.config INFO - Not applying SDK defaults from location: /home/sagemaker-user/.config/sagemaker/config.yaml\n"
     ]
    }
   ],
   "source": [
    "# initiate predictor\n",
    "predictor = Predictor(\"demo-img-clsfr-pneuomia2\")"
   ]
  },
  {
   "cell_type": "code",
   "execution_count": 12,
   "id": "f3f81905-1903-436b-aff0-91adac8560db",
   "metadata": {},
   "outputs": [
    {
     "name": "stdout",
     "output_type": "stream",
     "text": [
      "b'[5.259689928038824e-08, 1.0]'\n"
     ]
    }
   ],
   "source": [
    "file_name = \"data/chest_xray/val/val_pneumonia6.jpeg\"\n",
    "\n",
    "predictor.serializer = IdentitySerializer(\"image/jpeg\")\n",
    "\n",
    "with open(file_name, \"rb\") as f:\n",
    "    payload = f.read()\n",
    "\n",
    "inference = predictor.predict(data=payload)\n",
    "print(inference)"
   ]
  },
  {
   "cell_type": "markdown",
   "id": "aca103bb-5de5-4729-8c2e-7e88976cec89",
   "metadata": {},
   "source": [
    "## Classifier Evaluation"
   ]
  },
  {
   "cell_type": "code",
   "execution_count": 13,
   "id": "9a944bc0-b105-4c1c-a7c1-50486129aee6",
   "metadata": {},
   "outputs": [
    {
     "name": "stdout",
     "output_type": "stream",
     "text": [
      "y_true:  [0, 0, 0, 0, 0, 0, 0, 0, 1, 1, 1, 1, 1, 1, 1, 1]\n",
      "y_pred:  [1, 1, 1, 1, 1, 1, 1, 1, 1, 1, 1, 1, 1, 1, 1, 1]\n"
     ]
    }
   ],
   "source": [
    "file_path = \"data/chest_xray/val/*.jpeg\"\n",
    "files = glob.glob(file_path)\n",
    "\n",
    "y_true = []\n",
    "y_pred = []\n",
    "\n",
    "def make_pred():\n",
    "    for file in files:\n",
    "        if \"normal\" in file:\n",
    "            with open(file, \"rb\") as f:\n",
    "                payload = f.read()\n",
    "                inference = predictor.predict(data=payload).decode(\"utf-8\")\n",
    "                result = json.loads(inference)\n",
    "                predicted_class = np.argmax(result)\n",
    "                y_true.append(0)\n",
    "                y_pred.append(predicted_class)\n",
    "                \n",
    "        elif \"pneumonia\" in file:\n",
    "            with open(file, \"rb\") as f:\n",
    "                payload = f.read()\n",
    "                inference = predictor.predict(data=payload).decode(\"utf-8\")\n",
    "                result = json.loads(inference)\n",
    "                predicted_class = np.argmax(result)\n",
    "                y_true.append(1)\n",
    "                y_pred.append(predicted_class)\n",
    "\n",
    "make_pred()\n",
    "print(\"y_true: \", y_true)\n",
    "print(\"y_pred: \", y_pred)"
   ]
  },
  {
   "cell_type": "code",
   "execution_count": 14,
   "id": "9ac6dfc9-19da-4bdf-90fe-0d8ef4a590a5",
   "metadata": {},
   "outputs": [
    {
     "data": {
      "text/plain": [
       "array([[0, 8],\n",
       "       [0, 8]])"
      ]
     },
     "execution_count": 14,
     "metadata": {},
     "output_type": "execute_result"
    }
   ],
   "source": [
    "# confusion matrix\n",
    "confusion_matrix(y_true, y_pred)"
   ]
  },
  {
   "cell_type": "code",
   "execution_count": 15,
   "id": "a451ceaf-d01f-449c-a3c1-834bdfa147f0",
   "metadata": {},
   "outputs": [
    {
     "name": "stdout",
     "output_type": "stream",
     "text": [
      "              precision    recall  f1-score   support\n",
      "\n",
      "           0       0.00      0.00      0.00         8\n",
      "           1       0.50      1.00      0.67         8\n",
      "\n",
      "    accuracy                           0.50        16\n",
      "   macro avg       0.25      0.50      0.33        16\n",
      "weighted avg       0.25      0.50      0.33        16\n",
      "\n"
     ]
    },
    {
     "name": "stderr",
     "output_type": "stream",
     "text": [
      "/opt/conda/lib/python3.10/site-packages/sklearn/metrics/_classification.py:1471: UndefinedMetricWarning: Precision and F-score are ill-defined and being set to 0.0 in labels with no predicted samples. Use `zero_division` parameter to control this behavior.\n",
      "  _warn_prf(average, modifier, msg_start, len(result))\n",
      "/opt/conda/lib/python3.10/site-packages/sklearn/metrics/_classification.py:1471: UndefinedMetricWarning: Precision and F-score are ill-defined and being set to 0.0 in labels with no predicted samples. Use `zero_division` parameter to control this behavior.\n",
      "  _warn_prf(average, modifier, msg_start, len(result))\n",
      "/opt/conda/lib/python3.10/site-packages/sklearn/metrics/_classification.py:1471: UndefinedMetricWarning: Precision and F-score are ill-defined and being set to 0.0 in labels with no predicted samples. Use `zero_division` parameter to control this behavior.\n",
      "  _warn_prf(average, modifier, msg_start, len(result))\n"
     ]
    }
   ],
   "source": [
    "# classification report\n",
    "print(classification_report(y_true, y_pred))"
   ]
  },
  {
   "cell_type": "code",
   "execution_count": null,
   "id": "0673a9fc-04f8-4bc8-acea-be589b77607d",
   "metadata": {},
   "outputs": [],
   "source": []
  }
 ],
 "metadata": {
  "kernelspec": {
   "display_name": "Python 3 (ipykernel)",
   "language": "python",
   "name": "python3"
  },
  "language_info": {
   "codemirror_mode": {
    "name": "ipython",
    "version": 3
   },
   "file_extension": ".py",
   "mimetype": "text/x-python",
   "name": "python",
   "nbconvert_exporter": "python",
   "pygments_lexer": "ipython3",
   "version": "3.10.13"
  }
 },
 "nbformat": 4,
 "nbformat_minor": 5
}
